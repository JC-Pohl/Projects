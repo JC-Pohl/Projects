{
 "cells": [
  {
   "cell_type": "code",
   "execution_count": 42,
   "metadata": {
    "collapsed": true
   },
   "outputs": [],
   "source": [
    "import pandas as pd\n",
    "import numpy as np\n",
    "import matplotlib.pyplot as plt\n",
    "import seaborn as sns\n",
    "%matplotlib inline\n",
    "from sklearn.model_selection import train_test_split, GridSearchCV\n",
    "from sklearn.preprocessing import StandardScaler, MinMaxScaler, MaxAbsScaler, RobustScaler, Normalizer\n",
    "from sklearn.model_selection import cross_val_score, StratifiedKFold\n",
    "from sklearn.metrics import classification_report, confusion_matrix\n",
    "from sklearn.linear_model import LogisticRegression, LogisticRegressionCV\n",
    "from sklearn.tree import DecisionTreeClassifier\n",
    "from sklearn.ensemble import RandomForestClassifier, BaggingClassifier\n",
    "from sklearn.neighbors import KNeighborsClassifier"
   ]
  },
  {
   "cell_type": "markdown",
   "metadata": {},
   "source": [
    "## Load all datasets from Kaggle"
   ]
  },
  {
   "cell_type": "code",
   "execution_count": 4,
   "metadata": {
    "collapsed": true
   },
   "outputs": [],
   "source": [
    "all_teams = pd.read_csv('teams.csv')\n",
    "seasons= pd.read_csv('Seasons.csv')\n",
    "reg_compact = pd.read_csv('RegularSeasonCompactResults.csv')\n",
    "reg_detail = pd.read_csv('RegularSeasonDetailedResults.csv')\n",
    "tour_compact = pd.read_csv('TourneyCompactResults.csv')\n",
    "tour_detail = pd.read_csv('TourneyDetailedResults.csv')\n",
    "tour_seeds = pd.read_csv('TourneySeeds.csv')\n",
    "tour_slots = pd.read_csv('TourneySlots.csv')\n",
    "sample_submission = pd.read_csv('SampleSubmission.csv')"
   ]
  },
  {
   "cell_type": "markdown",
   "metadata": {},
   "source": [
    "## EDA - Creating a usable dataset"
   ]
  },
  {
   "cell_type": "markdown",
   "metadata": {},
   "source": [
    "The relevant datasets provided by Kaggle have one row for each game played. The goal is to predict the outcome of games that have not been yet played (or at least games that have not been used to fit the model).  Data regarding an individual game cannot be used to predict the outcome of that game, because the data and outcome are simultaneously available.  Data available to predict a games outcome must be available prior to the game.  So I will use feature engineering to create a new set of (hopefully) useful factors.  These will be team level factors for tournament team for each season. I also include the seeding of teams in the tournament.  Initially, I will create a dataset that has one row for each team for each year.  Ultimately, I will create a dataset that has the actual matchups played a year or years of the tournament along with data regarding each of the two teams.  I will use this team level data for each of two teams to predict the outcome of a game between the two teams. \n",
    "\n",
    "The raw datasets are not directly factors in the model, so the only EDA was looking at the contents of each dataset.  Visual and other EDA will be more important once I have engineered usable features. "
   ]
  },
  {
   "cell_type": "markdown",
   "metadata": {},
   "source": [
    "## Feature Engineering"
   ]
  },
  {
   "cell_type": "markdown",
   "metadata": {},
   "source": [
    "I created a set of functions that I can use to engineer team level data for each season. For each season I use data\n",
    "from the regular season to create factors.  The tournament data is the data that I use for fitting and testing my models. I used only data from the compact data sets, becaue this data is available for many additional years. "
   ]
  },
  {
   "cell_type": "markdown",
   "metadata": {},
   "source": [
    "##### Assumption: I am assuming that the additional information available in the detailed datasets is not as important as the additional years available in the compact datasets. "
   ]
  },
  {
   "cell_type": "markdown",
   "metadata": {},
   "source": [
    "One team level factor that is provided directly by Kaggle is a tournament seed for each team participating in a tournament.  In order to use the seeding I have defined a function that can list the seeding in a useable format for me to engineer team level data."
   ]
  },
  {
   "cell_type": "markdown",
   "metadata": {},
   "source": [
    "#### Define Function that takes team and season information and returns an integer for the team/season."
   ]
  },
  {
   "cell_type": "code",
   "execution_count": 6,
   "metadata": {
    "collapsed": true
   },
   "outputs": [],
   "source": [
    "def get_seed(year, team):\n",
    "    df_seeds = tour_seeds[tour_seeds.Season == year]\n",
    "    \n",
    "    try: \n",
    "        seed = df_seeds[df_seeds.Team == int(team)]['Seed'].values[0]\n",
    "        return int(seed[1:3])\n",
    "    \n",
    "    except:\n",
    "        return None  ## returns none if team is not invited to tournament for year given"
   ]
  },
  {
   "cell_type": "markdown",
   "metadata": {},
   "source": [
    "##### Assumption: I am assuming that tournament results can be best predicted by using data from games played during the same season.  I am making the assumption on the basis that the high turnover of players renders data from previous seasons significantly less important than same season data.  If I was predicting the results of profession sports -- I would not make this assumption."
   ]
  },
  {
   "cell_type": "markdown",
   "metadata": {},
   "source": [
    "Define function that takes a year and returns a dataframe containing average margin of victory/loss for each team and its opponents along with the seed(if any) for the team in that season's tournament."
   ]
  },
  {
   "cell_type": "code",
   "execution_count": 7,
   "metadata": {
    "collapsed": true
   },
   "outputs": [],
   "source": [
    "def make_factors(year): ## this function returns information for non-tournament teams, because such information\n",
    "                        ## is used to calculate the opponent margin of victory/loss used for tournament teams.\n",
    "    \n",
    "    def difficulty(factors):  ## average margin of victory/loss for opponents during regular season\n",
    "        strength_dic = dict(zip(factors.Team.values, factors.Diff.values))\n",
    "        difficulty_schedule = []\n",
    "        for team in factors['Team']:\n",
    "            opponents = []\n",
    "            for i in results.index:\n",
    "                if results.loc[i, 'Wteam'] == team:\n",
    "                    opponents.append(results.loc[i, 'Lteam'])\n",
    "                elif results.loc[i, 'Lteam'] == team:\n",
    "                    opponents.append(results.loc[i, 'Wteam'])\n",
    "            opp_strength = 0\n",
    "            for opponent in opponents:\n",
    "                opp_strength += strength_dic[opponent]/len(opponents)\n",
    "            difficulty_schedule.append(opp_strength)\n",
    "        return difficulty_schedule\n",
    "    \n",
    "    team_list = [team for team in all_teams.iloc[:, 0]]\n",
    "    dif_list = []\n",
    "    results = reg_compact[reg_compact['Season'] == year]\n",
    "    team_year_list = team_list.copy()\n",
    "    for team in team_list:\n",
    "        point_dif = 0\n",
    "        games_played = 0\n",
    "        for i in results.index:\n",
    "            if results.loc[i, 'Wteam'] == team:\n",
    "                point_dif = point_dif + results.loc[i, 'Wscore'] - results.loc[i, 'Lscore']\n",
    "                games_played += 1\n",
    "            elif results.loc[i, 'Lteam'] == team:\n",
    "                point_dif = point_dif + results.loc[i, 'Lscore'] - results.loc[i, 'Wscore']\n",
    "                games_played += 1\n",
    "        if games_played == 0:\n",
    "            team_year_list.remove(team)\n",
    "        else:\n",
    "            dif_list.append(point_dif/games_played)\n",
    "    \n",
    "    factors = pd.DataFrame(index=None)\n",
    "    factors['Team'] = [team for team in team_year_list]\n",
    "    factors['Diff'] = [diff for diff in dif_list]\n",
    "    factors['schedule_str'] = [strength for strength in difficulty(factors)]\n",
    "    factors['Seed'] = [get_seed(year, team) for team in team_year_list]\n",
    "    tour_factors = factors[factors.Seed.notnull()]\n",
    "    tour_factors['Seed'] = [int(seed) for seed in tour_factors.Seed.values]\n",
    "    return tour_factors"
   ]
  },
  {
   "cell_type": "markdown",
   "metadata": {},
   "source": [
    "### Define a function that provides the data for the target. "
   ]
  },
  {
   "cell_type": "code",
   "execution_count": 8,
   "metadata": {
    "collapsed": true
   },
   "outputs": [],
   "source": [
    "def results_makelist(year):  ## this list is used to create the target for modelling.\n",
    "    resultlist = []\n",
    "    results = tour_compact[tour_compact['Season'] == year]\n",
    "    for index, row in results.iterrows():\n",
    "        resultlist.append(str(row['Season']) + '_' + str(row['Wteam']) + '_' + str(row['Lteam']))\n",
    "    return resultlist  "
   ]
  },
  {
   "cell_type": "markdown",
   "metadata": {},
   "source": [
    "### Define a function to create a dataframe of data for modelling."
   ]
  },
  {
   "cell_type": "code",
   "execution_count": 9,
   "metadata": {
    "collapsed": true
   },
   "outputs": [],
   "source": [
    "##takes a year and returns a dataframe with game results and team-level info\n",
    "\n",
    "def make_dataset(year):  \n",
    "    results = results_makelist(year)\n",
    "    factors = make_factors(year)\n",
    "    end = len(results)\n",
    "    mid = int(end/2)\n",
    "    wteams = [result[5:9] for result in results]\n",
    "    lteams = [result[10:14] for result in results]\n",
    "    wdiffs = [factors[factors.loc[:, 'Team'] == int(team)]['Diff'].values[0] for team in wteams]\n",
    "    wsOs = [factors[factors.loc[:, 'Team'] == int(team)]['schedule_str'].values[0] for team in wteams]\n",
    "    ldiffs = [factors[factors.loc[:, 'Team'] == int(team)]['Diff'].values[0] for team in lteams]\n",
    "    lsOs = [factors[factors.loc[:, 'Team'] == int(team)]['schedule_str'].values[0] for team in lteams]\n",
    "    draft = pd.DataFrame()\n",
    "    draft['team1'] = wteams[0:mid] + lteams[mid:end] ### these lines provide that the target is about half of each\n",
    "    draft['team2'] = lteams[0:mid] + wteams[mid:end] ### category\n",
    "    draft['diffs1'] = wdiffs[0:mid] + ldiffs[mid:end]\n",
    "    draft['diffs2'] = ldiffs[0:mid] + wdiffs[mid:end]\n",
    "    draft['sOs1'] = wdiffs[0:mid] + ldiffs[mid:end]\n",
    "    draft['sOs2'] = lsOs[0:mid] + wsOs[mid:end]\n",
    "    draft['seed1'] = [get_seed(year, team) for team in draft['team1']]\n",
    "    draft['seed2'] = [get_seed(year, team) for team in draft['team2']]\n",
    "    draft['team1_wins'] = [1 for x in range(0, mid)] + [0 for x in range(mid, end)]\n",
    "    return draft"
   ]
  },
  {
   "cell_type": "markdown",
   "metadata": {},
   "source": [
    "Create dataframe for modelling using data from 1985-2012 and save dataframe for future use."
   ]
  },
  {
   "cell_type": "code",
   "execution_count": 14,
   "metadata": {},
   "outputs": [
    {
     "name": "stderr",
     "output_type": "stream",
     "text": [
      "/Users/joshuapohl/anaconda/lib/python3.6/site-packages/ipykernel_launcher.py:44: SettingWithCopyWarning: \n",
      "A value is trying to be set on a copy of a slice from a DataFrame.\n",
      "Try using .loc[row_indexer,col_indexer] = value instead\n",
      "\n",
      "See the caveats in the documentation: http://pandas.pydata.org/pandas-docs/stable/indexing.html#indexing-view-versus-copy\n"
     ]
    }
   ],
   "source": [
    "dframe = make_dataset(1985)\n",
    "for year in range(1986, 2013):\n",
    "    dframe = pd.concat([dframe, make_dataset(year)], axis=0)"
   ]
  },
  {
   "cell_type": "code",
   "execution_count": 15,
   "metadata": {
    "collapsed": true
   },
   "outputs": [],
   "source": [
    "dframe.to_csv('data85thru2012.csv')"
   ]
  },
  {
   "cell_type": "code",
   "execution_count": 13,
   "metadata": {},
   "outputs": [],
   "source": [
    "dframe = pd.read_csv('data').drop(['Unnamed: 0'], axis=1)## saving to csv added a column"
   ]
  },
  {
   "cell_type": "markdown",
   "metadata": {},
   "source": [
    "I will not perform extensive EDA on the highly engineered factors unless required by the model's perfomance.  However, I will look at some general metrics for the data and correlation between factors so that I can decide which techniques to use during the modelling process."
   ]
  },
  {
   "cell_type": "code",
   "execution_count": 14,
   "metadata": {},
   "outputs": [
    {
     "data": {
      "text/plain": [
       "(1782, 9)"
      ]
     },
     "execution_count": 14,
     "metadata": {},
     "output_type": "execute_result"
    }
   ],
   "source": [
    "dframe.shape  ##1782 is a good number of games to perform a train test split and use cross validation"
   ]
  },
  {
   "cell_type": "code",
   "execution_count": 15,
   "metadata": {},
   "outputs": [
    {
     "name": "stdout",
     "output_type": "stream",
     "text": [
      "<class 'pandas.core.frame.DataFrame'>\n",
      "RangeIndex: 1782 entries, 0 to 1781\n",
      "Data columns (total 9 columns):\n",
      "team1         1782 non-null int64\n",
      "team2         1782 non-null int64\n",
      "diffs1        1782 non-null float64\n",
      "diffs2        1782 non-null float64\n",
      "sOs1          1782 non-null float64\n",
      "sOs2          1782 non-null float64\n",
      "seed1         1782 non-null int64\n",
      "seed2         1782 non-null int64\n",
      "team1_wins    1782 non-null int64\n",
      "dtypes: float64(4), int64(5)\n",
      "memory usage: 125.4 KB\n"
     ]
    }
   ],
   "source": [
    "dframe.info() ## the datatypes are numeric except for number representation of each team which I will not use."
   ]
  },
  {
   "cell_type": "markdown",
   "metadata": {},
   "source": [
    "The data is now in a format that I can use to model.  I will pull the target and factors from the dataframe and perform additional preprocessing as I model. I will look at correlation between factors after I perform a train-test-split. "
   ]
  },
  {
   "cell_type": "code",
   "execution_count": 17,
   "metadata": {
    "collapsed": true
   },
   "outputs": [],
   "source": [
    "target = 'team1_wins'\n",
    "y = dframe[target]\n",
    "X = dframe[[col for col in dframe.columns if col != target]]\n",
    "\n",
    "X_train, X_test, y_train, y_test = train_test_split(X, y, random_state = 420)"
   ]
  },
  {
   "cell_type": "code",
   "execution_count": 18,
   "metadata": {},
   "outputs": [
    {
     "data": {
      "text/plain": [
       "<matplotlib.axes._subplots.AxesSubplot at 0x1182bbb00>"
      ]
     },
     "execution_count": 18,
     "metadata": {},
     "output_type": "execute_result"
    },
    {
     "data": {
      "image/png": "[encoded data removed]",
      "text/plain": [
       "<matplotlib.figure.Figure at 0x1182c52b0>"
      ]
     },
     "metadata": {},
     "output_type": "display_data"
    }
   ],
   "source": [
    "corr_grid = X_train.corr()\n",
    "sns.heatmap(corr_grid)"
   ]
  },
  {
   "cell_type": "markdown",
   "metadata": {},
   "source": [
    "#### The heatmap indicates correlation between a team's average margin of victory/loss and such team's seed.  I expected this correlation. It is the reason I have not included other team level data such as a team's won-loss record, because such data would likely be similarly correlated. "
   ]
  },
  {
   "cell_type": "markdown",
   "metadata": {},
   "source": [
    "## Modelling"
   ]
  },
  {
   "cell_type": "markdown",
   "metadata": {},
   "source": [
    "The Kaggle competition requires the entrant to provide probability of wins rather than simply a binary classification.\n",
    "I would prefer to use a classifier model that can easily provide such probabilities.  I chose LogisticRegression, RandomForestClassifier, and KNeighborsClassifier because each is different than the others. After reviewing the accuracy of each of these methods I "
   ]
  },
  {
   "cell_type": "markdown",
   "metadata": {
    "collapsed": true
   },
   "source": [
    "I am using StandardScaler because the range for each of the three team level factors is different than the others.  I concerned about using StandardScaler on the seed -- because the seed is such an artificial construct, but Standard Scaler helped my model."
   ]
  },
  {
   "cell_type": "code",
   "execution_count": 19,
   "metadata": {
    "collapsed": true
   },
   "outputs": [],
   "source": [
    "ss = StandardScaler()\n",
    "X_train = ss.fit_transform(X_train)\n",
    "X_test = ss.fit_transform(X_test)"
   ]
  },
  {
   "cell_type": "markdown",
   "metadata": {},
   "source": [
    "Create a Logistic Regression Model using CV to optimize value of C"
   ]
  },
  {
   "cell_type": "code",
   "execution_count": 76,
   "metadata": {
    "scrolled": true
   },
   "outputs": [
    {
     "name": "stdout",
     "output_type": "stream",
     "text": [
      "LogisticRegressionCV accuracy on training data is  0.925149700599\n",
      "LogisticRegressionCV accuracy on test data is  0.921524663677\n"
     ]
    }
   ],
   "source": [
    "lrCV = LogisticRegressionCV(Cs=np.logspace(-4, 4, 10), cv=5, n_jobs=-1, solver='liblinear', random_state = 420)\n",
    "lrCV.fit(X_train, y_train)\n",
    "print('LogisticRegressionCV accuracy on training data is ', lrCV.score(X_train, y_train))\n",
    "print('LogisticRegressionCV accuracy on test data is ', lrCV.score(X_test, y_test))"
   ]
  },
  {
   "cell_type": "markdown",
   "metadata": {},
   "source": [
    "This logistic regression model performed almost as well on test data as it did on training data so I am optimistic, but will try other models. "
   ]
  },
  {
   "cell_type": "code",
   "execution_count": 77,
   "metadata": {},
   "outputs": [
    {
     "name": "stdout",
     "output_type": "stream",
     "text": [
      "RandomForestClassifer accuracy with default parameters on train data is  0.99251497006\n",
      "RandomForestClassifer accuracy with default parameters on test data is  0.908071748879\n"
     ]
    }
   ],
   "source": [
    "clf = RandomForestClassifier()\n",
    "clf.fit(X_train, y_train)\n",
    "print('RandomForestClassifer accuracy with default parameters on train data is ', clf.score(X_train, y_train))\n",
    "print('RandomForestClassifer accuracy with default parameters on test data is ', clf.score(X_test, y_test))"
   ]
  },
  {
   "cell_type": "markdown",
   "metadata": {},
   "source": [
    "RandomForestClassifer Model with default parameters is overfit, so will try to optimizer paramaters"
   ]
  },
  {
   "cell_type": "code",
   "execution_count": 79,
   "metadata": {},
   "outputs": [
    {
     "name": "stdout",
     "output_type": "stream",
     "text": [
      "RandomForestClassifer accuracy with optimized parameters on training data is  0.908071748879\n",
      "RandomForestClassifer accuracy with optimized parameters on test data is  0.908071748879\n"
     ]
    }
   ],
   "source": [
    "clf_parameters = {\n",
    "    'n_estimators': [5, 10, 15],\n",
    "    'criterion': ['gini','entropy']\n",
    "}\n",
    "clf_gridsearch = GridSearchCV(RandomForestClassifier(), clf_parameters, n_jobs=-1)\n",
    "clf_gridsearch.fit(X_train, y_train)\n",
    "print('RandomForestClassifer accuracy with optimized parameters on training data is ', clf_gridsearch.score(X_test, y_test))\n",
    "print('RandomForestClassifer accuracy with optimized parameters on test data is ', clf_gridsearch.score(X_test, y_test))"
   ]
  },
  {
   "cell_type": "markdown",
   "metadata": {},
   "source": [
    "Random Forest Classifier Appears inferior to Logistic Regression, so try KNeighbors Classifier, Tune and Evaluate"
   ]
  },
  {
   "cell_type": "code",
   "execution_count": 80,
   "metadata": {},
   "outputs": [
    {
     "name": "stdout",
     "output_type": "stream",
     "text": [
      "KNN with default parameters on train data score:  0.896709830201\n",
      "KNN with default parameters on tests data score:  0.878922546708\n"
     ]
    }
   ],
   "source": [
    "knn = KNeighborsClassifier()\n",
    "knn.fit(X_train, y_train)\n",
    "print('KNN with default parameters on train data score: ', cross_val_score(knn, X_train, y_train).mean())\n",
    "print('KNN with default parameters on tests data score: ', cross_val_score(knn, X_test, y_test).mean())"
   ]
  },
  {
   "cell_type": "code",
   "execution_count": 81,
   "metadata": {},
   "outputs": [
    {
     "name": "stdout",
     "output_type": "stream",
     "text": [
      "KNN Score with optimized parameters on traning data is  0.904193748845\n",
      "KNN Score with optimized parameters on test data is  0.876700526029\n"
     ]
    }
   ],
   "source": [
    "knn_parameters = {\n",
    "    'n_neighbors': [1,3,5,7,9],\n",
    "    'weights': ['uniform','distance'],\n",
    "    'metric': ['euclidean','manhattan']\n",
    "}\n",
    "\n",
    "knn_gridsearch = GridSearchCV(KNeighborsClassifier(), knn_parameters, n_jobs=-1)\n",
    "knn_gridsearch.fit(X_train, y_train)\n",
    "print('KNN Score with optimized parameters on traning data is ', cross_val_score(knn_gridsearch, X_train, y_train).mean())\n",
    "print('KNN Score with optimized parameters on test data is ', cross_val_score(knn_gridsearch, X_test, y_test).mean())"
   ]
  },
  {
   "cell_type": "markdown",
   "metadata": {},
   "source": [
    "Evaluate Logistic Regression Model with a Confusion Matrix and ROC Curve. Both look encouraging, but the difference between false negatives and false positives is irrelevant in this context. A better evaluation is to use predictions on NCAA tournaments after 2012."
   ]
  },
  {
   "cell_type": "code",
   "execution_count": 86,
   "metadata": {},
   "outputs": [
    {
     "data": {
      "text/html": [
       "<div>\n",
       "<style>\n",
       "    .dataframe thead tr:only-child th {\n",
       "        text-align: right;\n",
       "    }\n",
       "\n",
       "    .dataframe thead th {\n",
       "        text-align: left;\n",
       "    }\n",
       "\n",
       "    .dataframe tbody tr th {\n",
       "        vertical-align: top;\n",
       "    }\n",
       "</style>\n",
       "<table border=\"1\" class=\"dataframe\">\n",
       "  <thead>\n",
       "    <tr style=\"text-align: right;\">\n",
       "      <th></th>\n",
       "      <th>predicted team 1</th>\n",
       "      <th>predicted team 2</th>\n",
       "    </tr>\n",
       "  </thead>\n",
       "  <tbody>\n",
       "    <tr>\n",
       "      <th>team 1 won</th>\n",
       "      <td>208</td>\n",
       "      <td>7</td>\n",
       "    </tr>\n",
       "    <tr>\n",
       "      <th>team 2 won</th>\n",
       "      <td>28</td>\n",
       "      <td>203</td>\n",
       "    </tr>\n",
       "  </tbody>\n",
       "</table>\n",
       "</div>"
      ],
      "text/plain": [
       "            predicted team 1  predicted team 2\n",
       "team 1 won               208                 7\n",
       "team 2 won                28               203"
      ]
     },
     "execution_count": 86,
     "metadata": {},
     "output_type": "execute_result"
    }
   ],
   "source": [
    "yhat = lrCV.predict(X_test)\n",
    "conmat = np.array(confusion_matrix(y_test, yhat, labels=[1,0]))\n",
    "confusion = pd.DataFrame(conmat, index=['team 1 won', 'team 2 won'],\n",
    "                         columns=['predicted team 1','predicted team 2'])\n",
    "confusion"
   ]
  },
  {
   "cell_type": "code",
   "execution_count": 85,
   "metadata": {},
   "outputs": [
    {
     "data": {
      "image/png": "[encoded data removed]",
      "text/plain": [
       "<matplotlib.figure.Figure at 0x118abdc18>"
      ]
     },
     "metadata": {},
     "output_type": "display_data"
    }
   ],
   "source": [
    "from sklearn.metrics import roc_curve, auc\n",
    "yhat = lrCV.predict(X_test)\n",
    "yhat_pp = lrCV.predict_proba(X_test)\n",
    "\n",
    "fpr, tpr, _ = roc_curve(y_test, yhat_pp[:,1])\n",
    "roc_auc = auc(fpr, tpr)\n",
    "\n",
    "plt.figure(figsize=[8,8])\n",
    "plt.plot(fpr, tpr, label='ROC curve (area = %0.2f)' % roc_auc, linewidth=4)\n",
    "plt.plot([0, 1], [0, 1], 'k--', linewidth=4)\n",
    "plt.xlim([-0.05, 1.0])\n",
    "plt.ylim([-0.05, 1.05])\n",
    "plt.xlabel('False Positive Rate', fontsize=18)\n",
    "plt.ylabel('True Positive Rate', fontsize=18)\n",
    "plt.title('Receiver operating characteristic: team1 wins', fontsize=18)\n",
    "plt.legend(loc=\"lower right\")\n",
    "plt.show()"
   ]
  },
  {
   "cell_type": "markdown",
   "metadata": {},
   "source": [
    "The shape of the ROC curve is encouraging, but the difference between false positives and false negatives is irrelevant in this context."
   ]
  },
  {
   "cell_type": "markdown",
   "metadata": {},
   "source": [
    "#### Test Data on NCAA Tournaments 2013-2016"
   ]
  },
  {
   "cell_type": "code",
   "execution_count": 101,
   "metadata": {
    "collapsed": true
   },
   "outputs": [],
   "source": [
    "dframe = pd.concat([dframe, ncaa2013], axis=0)"
   ]
  },
  {
   "cell_type": "code",
   "execution_count": 102,
   "metadata": {},
   "outputs": [
    {
     "data": {
      "text/plain": [
       "(1849, 9)"
      ]
     },
     "execution_count": 102,
     "metadata": {},
     "output_type": "execute_result"
    }
   ],
   "source": [
    "dframe.shape"
   ]
  },
  {
   "cell_type": "code",
   "execution_count": 96,
   "metadata": {},
   "outputs": [
    {
     "name": "stdout",
     "output_type": "stream",
     "text": [
      "Accuracy for 2013 is  0.920314253648\n"
     ]
    }
   ],
   "source": [
    "ncaa2013 = make_dataset(2013)\n",
    "dframe = pd.concat([dframe, ncaa2013], axis=0)\n",
    "target = 'team1_wins'\n",
    "y = dframe[target]\n",
    "X = dframe[[col for col in dframe.columns if col != target]]\n",
    "X = ss.fit_transform(X)\n",
    "\n",
    "print('Accuracy for 2013 is ',  lrCV.score(X, y))"
   ]
  },
  {
   "cell_type": "code",
   "execution_count": 103,
   "metadata": {},
   "outputs": [
    {
     "name": "stdout",
     "output_type": "stream",
     "text": [
      "Accuracy for 2014 is  0.918580375783\n"
     ]
    }
   ],
   "source": [
    "ncaa2014 = make_dataset(2014)\n",
    "dframe = pd.concat([dframe, ncaa2014], axis=0)\n",
    "target = 'team1_wins'\n",
    "y = dframe[target]\n",
    "X = dframe[[col for col in dframe.columns if col != target]]\n",
    "X = ss.fit_transform(X)\n",
    "\n",
    "print('Accuracy for 2014 is ',  lrCV.score(X, y))"
   ]
  },
  {
   "cell_type": "code",
   "execution_count": 104,
   "metadata": {},
   "outputs": [
    {
     "name": "stdout",
     "output_type": "stream",
     "text": [
      "Accuracy for 2015 is  0.917801311145\n"
     ]
    }
   ],
   "source": [
    "ncaa2015 = make_dataset(2015)\n",
    "dframe = pd.concat([dframe, ncaa2015], axis=0)\n",
    "target = 'team1_wins'\n",
    "y = dframe[target]\n",
    "X = dframe[[col for col in dframe.columns if col != target]]\n",
    "X = ss.fit_transform(X)\n",
    "\n",
    "print('Accuracy for 2015 is ',  lrCV.score(X, y))"
   ]
  },
  {
   "cell_type": "code",
   "execution_count": 105,
   "metadata": {},
   "outputs": [
    {
     "name": "stdout",
     "output_type": "stream",
     "text": [
      "Accuracy for 2016 is  0.915609756098\n"
     ]
    }
   ],
   "source": [
    "ncaa2016 = make_dataset(2016)\n",
    "dframe = pd.concat([dframe, ncaa2016], axis=0)\n",
    "target = 'team1_wins'\n",
    "y = dframe[target]\n",
    "X = dframe[[col for col in dframe.columns if col != target]]\n",
    "X = ss.fit_transform(X)\n",
    "\n",
    "print('Accuracy for 2016 is ',  lrCV.score(X, y))"
   ]
  },
  {
   "cell_type": "markdown",
   "metadata": {},
   "source": [
    "## My model appears to perform pretty well, so here are next steps:"
   ]
  },
  {
   "cell_type": "markdown",
   "metadata": {},
   "source": [
    "###### I will evaluate the model on the 2017 data that is not in the data set.\n",
    "###### I will use a function to check the kaggle scoring on years 2013-2017.\n",
    "###### I will use additional methods to tune the model.\n",
    "###### I will fit the model on all data from 1985-2017.\n",
    "###### I will consider engineering additional functions or using additional data -- questioning my assumptions.\n",
    "##### I will use a function to prepare a submission in Kaggle's format for 2018.\n"
   ]
  },
  {
   "cell_type": "code",
   "execution_count": null,
   "metadata": {
    "collapsed": true
   },
   "outputs": [],
   "source": []
  }
 ],
 "metadata": {
  "kernelspec": {
   "display_name": "Python 3",
   "language": "python",
   "name": "python3"
  },
  "language_info": {
   "codemirror_mode": {
    "name": "ipython",
    "version": 3
   },
   "file_extension": ".py",
   "mimetype": "text/x-python",
   "name": "python",
   "nbconvert_exporter": "python",
   "pygments_lexer": "ipython3",
   "version": "3.6.1"
  }
 },
 "nbformat": 4,
 "nbformat_minor": 2
}
